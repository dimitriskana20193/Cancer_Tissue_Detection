{
  "nbformat": 4,
  "nbformat_minor": 0,
  "metadata": {
    "colab": {
      "provenance": [],
      "collapsed_sections": []
    },
    "kernelspec": {
      "name": "python3",
      "display_name": "Python 3"
    },
    "language_info": {
      "name": "python"
    }
  },
  "cells": [
    {
      "cell_type": "code",
      "execution_count": null,
      "metadata": {
        "id": "llWAN1YB-V0I"
      },
      "outputs": [],
      "source": [
        "import numpy as  np\n",
        "from tensorflow import keras \n",
        "import glob\n",
        "from keras.callbacks import ModelCheckpoint\n",
        "!pip install rasterio\n",
        "!pip install segmentation_models\n",
        "import segmentation_models as sm\n",
        "from keras.callbacks import ModelCheckpoint\n",
        "import rasterio\n",
        "from segmentation_models.losses  import bce_jaccard_loss\n",
        "from segmentation_models.metrics import iou_score\n",
        "from keras.optimizers import Adam\n"
      ]
    },
    {
      "cell_type": "code",
      "source": [
        "from pydrive.auth import GoogleAuth\n",
        "from pydrive.drive import GoogleDrive\n",
        "gauth = GoogleAuth()           \n",
        "drive = GoogleDrive(gauth) \n",
        "import os\n",
        "from google.colab import drive\n",
        "\n",
        "drive.mount('/content/gdrive', force_remount=True)\n",
        "root_path = '/content/gdrive/My Drive/handin3/datasetfinal'  #change dir to your project folder\n",
        "os.chdir(root_path)\n",
        "os.getcwd() \n"
      ],
      "metadata": {
        "id": "-jHT7NP7_ZP9"
      },
      "execution_count": null,
      "outputs": []
    },
    {
      "cell_type": "code",
      "source": [
        "mask_list = (f for f in sorted(glob.glob(root_path + \"/ma*\")))\n",
        "counts_list = (f for f in sorted(glob.glob(root_path + \"/co*\")))\n",
        "patch_list = (f for f in sorted(glob.glob(root_path + \"/pa*\")))"
      ],
      "metadata": {
        "id": "FW_lI3t3AYIV"
      },
      "execution_count": null,
      "outputs": []
    },
    {
      "cell_type": "code",
      "source": [
        "X = np.zeros((97, 256, 256, 4))\n",
        "y = np.zeros((97, 256, 256))\n",
        "for count, image in enumerate(patch_list):\n",
        "    with rasterio.open(image, 'r') as src:\n",
        "        #counts\n",
        "        data = src.read()\n",
        "        data = np.swapaxes(data,0,1)\n",
        "        data = np.swapaxes(data,1,2)\n",
        "        #swap axes so we could get (x,256,256)\n",
        "        X[count, :, :, 0:3] = data[:, :, 0:3]\n",
        "    \n",
        "\n",
        "        #X[ number of photo,256,256,bands ]\n",
        "for count,image in enumerate(counts_list):\n",
        "    with rasterio.open(image, 'r') as src:\n",
        "        data = src.read()\n",
        "        data = data[0,:, :]\n",
        "        unique,counts=np.unique(data,return_counts=True)\n",
        "        #get the unique values and the encounters in each image\n",
        "        if counts[0] > counts[1]:\n",
        "            #if the 0 are more than the other \n",
        "                data[data[:,:] == unique[0]] = 0\n",
        "                data[data[:,:] == unique[1]]  = 1\n",
        "        else:\n",
        "                data[data[:,:] == unique[0]] = 1\n",
        "                data[data[:,:] == unique[1]]  = 0\n",
        "        if data.shape[0] == 250:\n",
        "            #for corrupt images fill the matrix with 0\n",
        "              data = np.full((256,256), 0)\n",
        "        X[count, :, :, 3] = data\n",
        "        #the data we want are stored at the last band of X matrix \n",
        "for count, image in enumerate(mask_list):\n",
        "    with rasterio.open(image, 'r')as src:\n",
        "        #for the masks\n",
        "        data  = src.read()\n",
        "        data = data[0, :, :]\n",
        "        data = data.astype(np.float32)\n",
        "        unique,counts=np.unique(data,return_counts=True)\n",
        "        #sort the columns with most elements, keep 2 \n",
        "        args = counts.argsort()[-2:][::-1]\n",
        "        data[data[:, :] != unique[args[1]]] = np.nan\n",
        "        data[data[:, :] == unique[args[1]]] = 1\n",
        "        data[np.isnan(data[:, :])] = 0\n",
        "        y[count, :, :] = data\n",
        "        #y is a matrix that contains the labels for each mask"
      ],
      "metadata": {
        "id": "F9D-Ea04-9B5"
      },
      "execution_count": null,
      "outputs": []
    },
    {
      "cell_type": "code",
      "source": [
        "\n"
      ],
      "metadata": {
        "id": "zHqIySycHfDg"
      },
      "execution_count": null,
      "outputs": []
    },
    {
      "cell_type": "code",
      "source": [
        "BACKBONE = 'resnet34'\n",
        "filepath='loss2.hdf5'\n",
        "np.random.seed(2)\n",
        "# lists to keep the tests splits \n",
        "foldsXX = []\n",
        "foldsYY = []\n",
        "iou_scores = []\n",
        "X = X[:, :, :, 0:3]\n",
        "for seed in np.random.randint(1000, size=2):\n",
        "    np.random.seed(seed)\n",
        "    idx = np.random.permutation(len(X))\n",
        "    # scramble the indeces of the X matrix \n",
        "    X,y = X[idx], y[idx]\n",
        "    foldsX = []\n",
        "    foldsY = []\n",
        "    for fold in range(5):\n",
        "        start = int((len(X)/5)) * fold\n",
        "        end = int((len(X)/5)) * (fold+1)\n",
        "        #5fold split here \n",
        "        foldsX.append(X[start:end, :, :, :])\n",
        "        foldsY.append(y[start:end, :, :])\n",
        "    foldsXX.append(foldsX)\n",
        "    foldsYY.append(foldsY)\n",
        "    # we keep the sets of trials \n",
        "    for fold in range(5):\n",
        "        X_val = foldsX[fold]\n",
        "        y_val = foldsY[fold]\n",
        "        X_train = np.zeros((76, 256, 256, 3))\n",
        "        y_train = np.zeros((76, 256, 256))\n",
        "        counter = 0\n",
        "        for fold_train in range(5):\n",
        "            if fold_train != fold:\n",
        "                X_train[(19*counter):(19*(counter+1)), :, :, :] = foldsX[fold_train]\n",
        "                y_train[(19*counter):(19*(counter+1)), :, :] = foldsY[fold_train]\n",
        "    \n",
        "    y_train = y_train.reshape((76, 256, 256, 1))\n",
        "    y_val = y_val.reshape((19, 256, 256, 1))\n",
        "    model = sm.Unet(BACKBONE, encoder_weights= None, input_shape= (None, None, 3))\n",
        "    adam = Adam(learning_rate=0.0001)\n",
        "    model.compile(\n",
        "        'Adam',\n",
        "        loss=bce_jaccard_loss,\n",
        "        metrics=[iou_score],\n",
        "        )\n",
        "    checkpoint = ModelCheckpoint(filepath, monitor='val_iou_score', verbose=1, save_best_only=True, mode='max')\n",
        "    model.fit(X_train,y_train, batch_size=32, epochs=100, validation_data=(X_val, y_val), callbacks=[checkpoint])\n",
        "    model.load_weights(filepath)\n",
        "    print(model.evaluate(X_val, y_val)[1])\n",
        "    iou_scores.append(model.evaluate(X_val, y_val)[1])\n"
      ],
      "metadata": {
        "id": "WwTfxUx2FVw4"
      },
      "execution_count": null,
      "outputs": []
    },
    {
      "cell_type": "code",
      "source": [
        "print(model.evaluate(X_val, y_val)[1])\n",
        "iou_scores.append(model.evaluate(X_val, y_val)[1])\n",
        "print(iou_scores)\n",
        "print(model.evaluate(X_val, y_val)[1])\n",
        "iou_scores.append(model.evaluate(X_val, y_val)[1])\n",
        "print(iou_scores)\n",
        "ion = np.asarray(iou_scores)\n",
        "print(ion)\n",
        "print(ion.shape)\n"
      ],
      "metadata": {
        "id": "th8KXGMXIVAo"
      },
      "execution_count": null,
      "outputs": []
    }
  ]
}